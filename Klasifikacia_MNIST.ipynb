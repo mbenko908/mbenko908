{
  "nbformat": 4,
  "nbformat_minor": 0,
  "metadata": {
    "colab": {
      "name": "Klasifikacia_MNIST.ipynb",
      "provenance": [],
      "collapsed_sections": [],
      "include_colab_link": true
    },
    "kernelspec": {
      "name": "python3",
      "display_name": "Python 3"
    },
    "language_info": {
      "name": "python"
    }
  },
  "cells": [
    {
      "cell_type": "markdown",
      "metadata": {
        "id": "view-in-github",
        "colab_type": "text"
      },
      "source": [
        "<a href=\"https://colab.research.google.com/github/mbenko908/mbenko908/blob/main/Klasifikacia_MNIST.ipynb\" target=\"_parent\"><img src=\"https://colab.research.google.com/assets/colab-badge.svg\" alt=\"Open In Colab\"/></a>"
      ]
    },
    {
      "cell_type": "code",
      "metadata": {
        "id": "nCI3kvhXS8fS",
        "colab": {
          "base_uri": "https://localhost:8080/"
        },
        "outputId": "5aa79304-11a7-4735-f5f4-3bcce8264e94"
      },
      "source": [
        "import numpy as np\n",
        "from sklearn.model_selection import train_test_split\n",
        "import tensorflow as tf\n",
        "print(tf.__version__)\n",
        "import matplotlib.pyplot as plt\n",
        "\n",
        "from tensorflow import keras\n",
        "from tensorflow.keras import layers, models"
      ],
      "execution_count": null,
      "outputs": [
        {
          "output_type": "stream",
          "name": "stdout",
          "text": [
            "2.7.0\n"
          ]
        }
      ]
    },
    {
      "cell_type": "code",
      "metadata": {
        "id": "wPb90gYPTyWj",
        "colab": {
          "base_uri": "https://localhost:8080/",
          "height": 333
        },
        "outputId": "a93c60b9-888d-4998-f8e2-fbf671e1b245"
      },
      "source": [
        "(train_images, train_labels), (test_images, test_labels) = tf.keras.datasets.mnist.load_data()\n",
        "image = 9\n",
        "\n",
        "plt.imshow(train_images[image])\n",
        "plt.title('Rukou pisane cislo: ' +str(train_labels[image]))\n",
        "plt.show()"
      ],
      "execution_count": null,
      "outputs": [
        {
          "output_type": "stream",
          "name": "stdout",
          "text": [
            "Downloading data from https://storage.googleapis.com/tensorflow/tf-keras-datasets/mnist.npz\n",
            "11493376/11490434 [==============================] - 0s 0us/step\n",
            "11501568/11490434 [==============================] - 0s 0us/step\n"
          ]
        },
        {
          "output_type": "display_data",
          "data": {
            "image/png": "[encoded data removed]",
            "text/plain": [
              "<Figure size 432x288 with 1 Axes>"
            ]
          },
          "metadata": {
            "needs_background": "light"
          }
        }
      ]
    },
    {
      "cell_type": "code",
      "metadata": {
        "colab": {
          "base_uri": "https://localhost:8080/"
        },
        "id": "yXMcY1m9nwCf",
        "outputId": "4f87f488-9648-42b0-e924-d59bd3e6d9d8"
      },
      "source": [
        "train_images.shape, train_labels.shape"
      ],
      "execution_count": null,
      "outputs": [
        {
          "output_type": "execute_result",
          "data": {
            "text/plain": [
              "((60000, 28, 28), (60000,))"
            ]
          },
          "metadata": {},
          "execution_count": 3
        }
      ]
    },
    {
      "cell_type": "code",
      "metadata": {
        "colab": {
          "base_uri": "https://localhost:8080/"
        },
        "id": "ipaq53UT9ezq",
        "outputId": "89d1d518-04b4-41f2-b525-b5d5b43a5f60"
      },
      "source": [
        "len(test_images)"
      ],
      "execution_count": null,
      "outputs": [
        {
          "output_type": "execute_result",
          "data": {
            "text/plain": [
              "10000"
            ]
          },
          "metadata": {},
          "execution_count": 4
        }
      ]
    },
    {
      "cell_type": "code",
      "metadata": {
        "id": "zckeVBABUD6q"
      },
      "source": [
        "train_images = train_images.reshape((60000, 28 * 28))\n",
        "train_images = tf.keras.utils.normalize(train_images, axis=1)\n",
        "\n",
        "test_images = test_images.reshape((10000, 28 * 28))\n",
        "test_images = tf.keras.utils.normalize(test_images, axis=1)"
      ],
      "execution_count": null,
      "outputs": []
    },
    {
      "cell_type": "code",
      "metadata": {
        "colab": {
          "base_uri": "https://localhost:8080/"
        },
        "id": "gjLL5tbopeM9",
        "outputId": "0786e97e-d4a1-40d1-feaa-cc90f1f311de"
      },
      "source": [
        "test_images[0].shape"
      ],
      "execution_count": null,
      "outputs": [
        {
          "output_type": "execute_result",
          "data": {
            "text/plain": [
              "(784,)"
            ]
          },
          "metadata": {},
          "execution_count": 6
        }
      ]
    },
    {
      "cell_type": "code",
      "metadata": {
        "colab": {
          "base_uri": "https://localhost:8080/"
        },
        "id": "ROSTeZfD-Kpc",
        "outputId": "3e3203ff-3b22-4347-f19b-6ac7ab7df740"
      },
      "source": [
        "model = tf.keras.models.Sequential()\n",
        "model.add(tf.keras.Input(shape=(28 * 28, )))\n",
        "model.add(tf.keras.layers.Dense(1024, activation=tf.nn.relu))\n",
        "model.add(tf.keras.layers.Dense(10, activation=tf.nn.softmax))\n",
        "model.summary()"
      ],
      "execution_count": null,
      "outputs": [
        {
          "output_type": "stream",
          "name": "stdout",
          "text": [
            "Model: \"sequential\"\n",
            "_________________________________________________________________\n",
            " Layer (type)                Output Shape              Param #   \n",
            "=================================================================\n",
            " dense (Dense)               (None, 1024)              803840    \n",
            "                                                                 \n",
            " dense_1 (Dense)             (None, 10)                10250     \n",
            "                                                                 \n",
            "=================================================================\n",
            "Total params: 814,090\n",
            "Trainable params: 814,090\n",
            "Non-trainable params: 0\n",
            "_________________________________________________________________\n"
          ]
        }
      ]
    },
    {
      "cell_type": "code",
      "metadata": {
        "id": "irDGjzmK_DsY"
      },
      "source": [
        "model.compile(optimizer='RMSprop', loss='sparse_categorical_crossentropy', metrics=['acc'])"
      ],
      "execution_count": null,
      "outputs": []
    },
    {
      "cell_type": "code",
      "metadata": {
        "colab": {
          "base_uri": "https://localhost:8080/"
        },
        "id": "QFUXwkAk_k0d",
        "outputId": "cee59499-69a2-4424-db49-e7240fccbcb6"
      },
      "source": [
        "history = model.fit(x=train_images, y=train_labels, epochs=5, batch_size=100)\n",
        "history"
      ],
      "execution_count": null,
      "outputs": [
        {
          "output_type": "stream",
          "name": "stdout",
          "text": [
            "Epoch 1/5\n",
            "600/600 [==============================] - 9s 15ms/step - loss: 0.3644 - acc: 0.9025\n",
            "Epoch 2/5\n",
            "600/600 [==============================] - 9s 15ms/step - loss: 0.1666 - acc: 0.9512\n",
            "Epoch 3/5\n",
            "600/600 [==============================] - 9s 15ms/step - loss: 0.1148 - acc: 0.9664\n",
            "Epoch 4/5\n",
            "600/600 [==============================] - 9s 15ms/step - loss: 0.0861 - acc: 0.9751\n",
            "Epoch 5/5\n",
            "600/600 [==============================] - 9s 15ms/step - loss: 0.0682 - acc: 0.9796\n"
          ]
        },
        {
          "output_type": "execute_result",
          "data": {
            "text/plain": [
              "<keras.callbacks.History at 0x7f8f179a4150>"
            ]
          },
          "metadata": {},
          "execution_count": 9
        }
      ]
    },
    {
      "cell_type": "code",
      "metadata": {
        "id": "wDAyq11QCh5Q",
        "colab": {
          "base_uri": "https://localhost:8080/"
        },
        "outputId": "21fc349d-d1b7-4599-bd28-368933d04c9c"
      },
      "source": [
        "test_loss, test_acc = model.evaluate(test_images, test_labels)\n",
        "print('Presnost test:', test_acc*100)"
      ],
      "execution_count": null,
      "outputs": [
        {
          "output_type": "stream",
          "name": "stdout",
          "text": [
            "313/313 [==============================] - 1s 4ms/step - loss: 0.0815 - acc: 0.9763\n",
            "Presnost test: 97.63000011444092\n"
          ]
        }
      ]
    },
    {
      "cell_type": "code",
      "metadata": {
        "id": "i76Irh4IohmS"
      },
      "source": [
        "image = 5"
      ],
      "execution_count": null,
      "outputs": []
    },
    {
      "cell_type": "code",
      "metadata": {
        "id": "Di6pRZ2Sbsuw"
      },
      "source": [
        "predictions = model.predict(test_images)"
      ],
      "execution_count": null,
      "outputs": []
    },
    {
      "cell_type": "code",
      "metadata": {
        "id": "j-KxUvy_pFlr",
        "colab": {
          "base_uri": "https://localhost:8080/"
        },
        "outputId": "75977d74-8831-4ad3-a3b1-4692475fc285"
      },
      "source": [
        "np.argmax(predictions[image])"
      ],
      "execution_count": null,
      "outputs": [
        {
          "output_type": "execute_result",
          "data": {
            "text/plain": [
              "1"
            ]
          },
          "metadata": {},
          "execution_count": 13
        }
      ]
    },
    {
      "cell_type": "code",
      "metadata": {
        "id": "YmqSozv6lYJD",
        "colab": {
          "base_uri": "https://localhost:8080/"
        },
        "outputId": "a73a72cd-e90c-42b6-a27b-b61e83150b5e"
      },
      "source": [
        "test_images.shape"
      ],
      "execution_count": null,
      "outputs": [
        {
          "output_type": "execute_result",
          "data": {
            "text/plain": [
              "(10000, 784)"
            ]
          },
          "metadata": {},
          "execution_count": 14
        }
      ]
    },
    {
      "cell_type": "code",
      "metadata": {
        "id": "Uv6-kjHBct5L",
        "colab": {
          "base_uri": "https://localhost:8080/",
          "height": 283
        },
        "outputId": "f28ab2e2-585d-4384-9578-ec9ccc150170"
      },
      "source": [
        "plt.imshow(np.resize(test_images[image], (28, 28)))"
      ],
      "execution_count": null,
      "outputs": [
        {
          "output_type": "execute_result",
          "data": {
            "text/plain": [
              "<matplotlib.image.AxesImage at 0x7f8f161260d0>"
            ]
          },
          "metadata": {},
          "execution_count": 15
        },
        {
          "output_type": "display_data",
          "data": {
            "image/png": "[encoded data removed]",
            "text/plain": [
              "<Figure size 432x288 with 1 Axes>"
            ]
          },
          "metadata": {
            "needs_background": "light"
          }
        }
      ]
    },
    {
      "cell_type": "code",
      "metadata": {
        "colab": {
          "base_uri": "https://localhost:8080/",
          "height": 316
        },
        "id": "Ba-LlVoVGm_R",
        "outputId": "980aba99-b57e-40a7-e3d8-037687cad5a6"
      },
      "source": [
        "plt.subplot(121)\n",
        "plt.title('Loss')\n",
        "plt.plot(history.history['loss'])\n",
        "plt.grid()\n",
        "plt.legend()\n",
        "\n",
        "plt.subplot(122)\n",
        "plt.title('Accuracy')\n",
        "plt.plot(history.history['acc'])\n",
        "plt.grid()\n",
        "plt.legend()\n",
        "plt.show()"
      ],
      "execution_count": null,
      "outputs": [
        {
          "output_type": "stream",
          "name": "stderr",
          "text": [
            "No handles with labels found to put in legend.\n",
            "No handles with labels found to put in legend.\n"
          ]
        },
        {
          "output_type": "display_data",
          "data": {
            "image/png": "[encoded data removed]",
            "text/plain": [
              "<Figure size 432x288 with 2 Axes>"
            ]
          },
          "metadata": {
            "needs_background": "light"
          }
        }
      ]
    },
    {
      "cell_type": "code",
      "metadata": {
        "colab": {
          "base_uri": "https://localhost:8080/"
        },
        "id": "hdVPynSUIaEy",
        "outputId": "5874dc41-c921-4ec3-fb07-05cbce002aad"
      },
      "source": [
        "test_labels.shape, predictions.shape\n",
        "#confusion_matrix =  tf.math.confusion_matrix(labels=test_labels, predcitions=predictions)"
      ],
      "execution_count": null,
      "outputs": [
        {
          "output_type": "execute_result",
          "data": {
            "text/plain": [
              "((10000,), (10000, 10))"
            ]
          },
          "metadata": {},
          "execution_count": 17
        }
      ]
    },
    {
      "cell_type": "code",
      "metadata": {
        "colab": {
          "base_uri": "https://localhost:8080/"
        },
        "id": "OMRUT2oWJt08",
        "outputId": "f66df4f6-4df4-47a8-ce16-bbd92491f507"
      },
      "source": [
        "test_labels[3], np.argmax(predictions[3])"
      ],
      "execution_count": null,
      "outputs": [
        {
          "output_type": "execute_result",
          "data": {
            "text/plain": [
              "(0, 0)"
            ]
          },
          "metadata": {},
          "execution_count": 18
        }
      ]
    },
    {
      "cell_type": "code",
      "metadata": {
        "id": "Qu1B2ZVKLKgl"
      },
      "source": [
        "#confusion_matrix =  tf.math.confusion_matrix(test_labels, predictions[:, 0])\n",
        "from sklearn.metrics import confusion_matrix\n",
        "\n",
        "predicted = []\n",
        "for i in predictions:\n",
        "  predicted = np.append(predicted, np.argmax(i))"
      ],
      "execution_count": null,
      "outputs": []
    },
    {
      "cell_type": "code",
      "metadata": {
        "colab": {
          "base_uri": "https://localhost:8080/"
        },
        "id": "aGhAAO4kL2_O",
        "outputId": "6e84177b-af1e-4c9d-abca-f750ef350f4a"
      },
      "source": [
        "predicted.astype(int)"
      ],
      "execution_count": null,
      "outputs": [
        {
          "output_type": "execute_result",
          "data": {
            "text/plain": [
              "array([7, 2, 1, ..., 4, 5, 6])"
            ]
          },
          "metadata": {},
          "execution_count": 20
        }
      ]
    },
    {
      "cell_type": "code",
      "metadata": {
        "colab": {
          "base_uri": "https://localhost:8080/"
        },
        "id": "tNLt7xEZN4mH",
        "outputId": "0a064ac7-01bf-460a-c88f-cbfd0f634425"
      },
      "source": [
        "confusion_matrix(test_labels, predicted)"
      ],
      "execution_count": null,
      "outputs": [
        {
          "output_type": "execute_result",
          "data": {
            "text/plain": [
              "array([[ 971,    0,    1,    3,    0,    1,    2,    1,    1,    0],\n",
              "       [   0, 1123,    4,    1,    0,    1,    2,    1,    3,    0],\n",
              "       [   5,    0, 1012,    2,    2,    1,    2,    5,    3,    0],\n",
              "       [   0,    0,    9,  993,    0,    0,    0,    3,    3,    2],\n",
              "       [   2,    0,    4,    0,  964,    0,    3,    2,    1,    6],\n",
              "       [   2,    0,    0,   13,    1,  869,    4,    0,    2,    1],\n",
              "       [   6,    3,    2,    1,    2,    3,  938,    0,    3,    0],\n",
              "       [   1,    5,   11,    9,    0,    1,    0,  998,    0,    3],\n",
              "       [   3,    0,    7,   12,    3,    3,    2,    5,  936,    3],\n",
              "       [   4,    5,    1,   14,   15,    3,    1,    5,    2,  959]])"
            ]
          },
          "metadata": {},
          "execution_count": 21
        }
      ]
    },
    {
      "cell_type": "code",
      "metadata": {
        "colab": {
          "base_uri": "https://localhost:8080/"
        },
        "id": "YjKqVb_XOgV0",
        "outputId": "776c114b-6093-4a65-9ffc-a0a5bc224c2a"
      },
      "source": [
        "confusion_matrix2 =  tf.math.confusion_matrix(test_labels, predicted, name='Confusion Matrix')\n",
        "confusion_matrix2\n"
      ],
      "execution_count": null,
      "outputs": [
        {
          "output_type": "execute_result",
          "data": {
            "text/plain": [
              "<tf.Tensor: shape=(10, 10), dtype=int32, numpy=\n",
              "array([[ 971,    0,    1,    3,    0,    1,    2,    1,    1,    0],\n",
              "       [   0, 1123,    4,    1,    0,    1,    2,    1,    3,    0],\n",
              "       [   5,    0, 1012,    2,    2,    1,    2,    5,    3,    0],\n",
              "       [   0,    0,    9,  993,    0,    0,    0,    3,    3,    2],\n",
              "       [   2,    0,    4,    0,  964,    0,    3,    2,    1,    6],\n",
              "       [   2,    0,    0,   13,    1,  869,    4,    0,    2,    1],\n",
              "       [   6,    3,    2,    1,    2,    3,  938,    0,    3,    0],\n",
              "       [   1,    5,   11,    9,    0,    1,    0,  998,    0,    3],\n",
              "       [   3,    0,    7,   12,    3,    3,    2,    5,  936,    3],\n",
              "       [   4,    5,    1,   14,   15,    3,    1,    5,    2,  959]],\n",
              "      dtype=int32)>"
            ]
          },
          "metadata": {},
          "execution_count": 22
        }
      ]
    },
    {
      "cell_type": "code",
      "metadata": {
        "id": "gnKtYhhfO5C1"
      },
      "source": [
        "model.save('models/model.h5')"
      ],
      "execution_count": null,
      "outputs": []
    },
    {
      "cell_type": "code",
      "metadata": {
        "id": "mIoah0nyVBA0"
      },
      "source": [
        "loaded_model = tf.keras.models.load_model('models/model.h5')"
      ],
      "execution_count": null,
      "outputs": []
    },
    {
      "cell_type": "code",
      "metadata": {
        "colab": {
          "base_uri": "https://localhost:8080/"
        },
        "id": "xJvlMrMnVwWb",
        "outputId": "2b98bc77-02f6-4d3c-bfbe-f4653bd7cf8a"
      },
      "source": [
        "loaded_model.summary()"
      ],
      "execution_count": null,
      "outputs": [
        {
          "output_type": "stream",
          "name": "stdout",
          "text": [
            "Model: \"sequential\"\n",
            "_________________________________________________________________\n",
            " Layer (type)                Output Shape              Param #   \n",
            "=================================================================\n",
            " dense (Dense)               (None, 1024)              803840    \n",
            "                                                                 \n",
            " dense_1 (Dense)             (None, 10)                10250     \n",
            "                                                                 \n",
            "=================================================================\n",
            "Total params: 814,090\n",
            "Trainable params: 814,090\n",
            "Non-trainable params: 0\n",
            "_________________________________________________________________\n"
          ]
        }
      ]
    },
    {
      "cell_type": "code",
      "metadata": {
        "colab": {
          "base_uri": "https://localhost:8080/"
        },
        "id": "sBIzm4LaVyt7",
        "outputId": "b9671caf-a26a-4cfc-9689-2373f8636af1"
      },
      "source": [
        "test_loss, test_acc =  loaded_model.evaluate(test_images, test_labels)\n",
        "print(\"Loaded model accuracy: {:5.2f}%\".format(100*test_acc))"
      ],
      "execution_count": null,
      "outputs": [
        {
          "output_type": "stream",
          "name": "stdout",
          "text": [
            "313/313 [==============================] - 1s 4ms/step - loss: 0.0815 - acc: 0.9763\n",
            "Loaded model accuracy: 97.63%\n"
          ]
        }
      ]
    },
    {
      "cell_type": "code",
      "metadata": {
        "id": "BZyGfyLWWdOa"
      },
      "source": [
        "new_predictions = loaded_model.predict(test_images)"
      ],
      "execution_count": null,
      "outputs": []
    },
    {
      "cell_type": "code",
      "metadata": {
        "colab": {
          "base_uri": "https://localhost:8080/"
        },
        "id": "yvUfp7kgWqqf",
        "outputId": "a3497cfd-14c9-4ef9-fe83-bf37bcf860d5"
      },
      "source": [
        "np.argmax(new_predictions[0]), test_labels[0]"
      ],
      "execution_count": null,
      "outputs": [
        {
          "output_type": "execute_result",
          "data": {
            "text/plain": [
              "(7, 7)"
            ]
          },
          "metadata": {},
          "execution_count": 28
        }
      ]
    },
    {
      "cell_type": "code",
      "metadata": {
        "id": "cHswo8g7W6Np"
      },
      "source": [
        ""
      ],
      "execution_count": null,
      "outputs": []
    }
  ]
}